{
 "cells": [
  {
   "cell_type": "code",
   "execution_count": 1,
   "metadata": {},
   "outputs": [
    {
     "name": "stdout",
     "output_type": "stream",
     "text": [
      "10000 250\n"
     ]
    }
   ],
   "source": [
    "#!env python3\n",
    "import os\n",
    "import argparse\n",
    "import random\n",
    "\n",
    "def add_text(f):\n",
    "  text = \"Lorem ipsum dolor sit amet, \\\n",
    "consectetur adipiscing elit, sed do \\\n",
    "eiusmod tempor incididunt ut labore \\\n",
    "et dolore magna aliqua. Ut enim ad\\n\\\n",
    "minim veniam, quis nostrud exercitation \\\n",
    "ullamco laboris nisi ut aliquip ex ea \\\n",
    "commodo consequat. Duis aute irure dolor \\\n",
    "in reprehenderit in voluptate velit esse\\n\\\n",
    "cillum dolore eu fugiat nulla pariatur. \\\n",
    "Excepteur sint occaecat cupidatat non \\\n",
    "proident, sunt in culpa qui officia \\\n",
    "deserunt mollit anim id est laborum.\\n<p>\\n\"\n",
    "  f.write(text)\n",
    "\n",
    "def add_headers(f):\n",
    "  text = \"<!DOCTYPE html>\\n\\\n",
    "<html>\\n\\\n",
    "<body>\\n\"\n",
    "  f.write(text)\n",
    "\n",
    "\n",
    "def add_footers(f):\n",
    "  text = \"</body>\\n\\\n",
    "</html>\\n\"\n",
    "  f.write(text)\n",
    "\n",
    "def add_link(f, lnk):\n",
    "  text = \"<a HREF=\\\"\"\n",
    "  f.write(text)\n",
    "  text = str(lnk) + \".html\\\"\"\n",
    "  f.write(text)\n",
    "  text = \"> This is a link </a>\\n<p>\\n\"\n",
    "  f.write(text)\n",
    "\n",
    "def generate_file(idx, max_refs, num_files):\n",
    "  directory = 'hw10_output'\n",
    "  if not os.path.exists(directory):\n",
    "      os.makedirs(directory)\n",
    "  fname = os.path.join(directory, str(idx) + \".html\")\n",
    "  with open(fname, 'w', encoding=\"utf-8\") as f:\n",
    "    # how many references in this file\n",
    "    add_headers(f)\n",
    "    num_refs = random.randrange(0,max_refs)\n",
    "    for i in range(0,num_refs):\n",
    "      add_text(f)\n",
    "      lnk = random.randrange(0,num_files)\n",
    "      add_link(f, lnk)\n",
    "    add_footers(f)\n",
    "    f.close()\n",
    "\n",
    "def main():\n",
    "  parser = argparse.ArgumentParser()\n",
    "  parser.add_argument('-n', '--num_files', help=\"Specify the number of files to generate\", type=int, default=10000)\n",
    "  parser.add_argument('-m', '--max_refs', type=int, help=\"Specify the maximum number of references per file\", default=250)\n",
    "  args = parser.parse_args(\"\")\n",
    "  random.seed(0) # Add random seed = 0\n",
    "\n",
    "  print(args.num_files, args.max_refs)\n",
    "  for i in range(0,args.num_files):\n",
    "    generate_file(i, args.max_refs, args.num_files)\n",
    "\n",
    "if __name__ == \"__main__\":\n",
    "  main()"
   ]
  },
  {
   "cell_type": "code",
   "execution_count": 23,
   "metadata": {},
   "outputs": [],
   "source": [
    "import os\n",
    "os.environ[\"GOOGLE_APPLICATION_CREDENTIALS\"] = \"/Users/davidekim/Desktop/DataScience/BU/DS561/ds-561-dbb1fca4eaff.json\""
   ]
  },
  {
   "cell_type": "code",
   "execution_count": 24,
   "metadata": {},
   "outputs": [],
   "source": [
    "from google.cloud import storage\n",
    "\n",
    "storage_client = storage.Client()"
   ]
  },
  {
   "cell_type": "code",
   "execution_count": 25,
   "metadata": {},
   "outputs": [],
   "source": [
    "# Open Bucket\n",
    "bucket = storage_client.bucket('hw10_bucket')"
   ]
  },
  {
   "cell_type": "code",
   "execution_count": 26,
   "metadata": {},
   "outputs": [],
   "source": [
    "# Copy the local files\n",
    "directory = 'hw10_output'\n",
    "\n",
    "for file in os.listdir(directory):\n",
    "    path = os.path.join(directory, file)\n",
    "    bucket.blob(path).upload_from_filename(path)\n"
   ]
  }
 ],
 "metadata": {
  "kernelspec": {
   "display_name": "Python 3",
   "language": "python",
   "name": "python3"
  },
  "language_info": {
   "codemirror_mode": {
    "name": "ipython",
    "version": 3
   },
   "file_extension": ".py",
   "mimetype": "text/x-python",
   "name": "python",
   "nbconvert_exporter": "python",
   "pygments_lexer": "ipython3",
   "version": "3.9.15"
  },
  "orig_nbformat": 4
 },
 "nbformat": 4,
 "nbformat_minor": 2
}
